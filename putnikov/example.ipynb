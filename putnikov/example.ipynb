{
 "cells": [
  {
   "cell_type": "markdown",
   "source": [
    "# Import libs"
   ],
   "metadata": {
    "collapsed": false
   }
  },
  {
   "cell_type": "code",
   "execution_count": 9,
   "outputs": [],
   "source": [
    "from seirpinn.pinn import SeirPINN\n",
    "import pandas as pd\n",
    "from sklearn.preprocessing import MinMaxScaler\n",
    "import torch\n",
    "import torch.optim as optim\n",
    "import numpy as np\n",
    "from scipy.integrate import odeint\n",
    "import matplotlib.pyplot as plt"
   ],
   "metadata": {
    "collapsed": false,
    "pycharm": {
     "name": "#%%\n",
     "is_executing": false
    }
   }
  },
  {
   "cell_type": "markdown",
   "source": [
    "# Preprocess data"
   ],
   "metadata": {
    "collapsed": false
   }
  },
  {
   "cell_type": "code",
   "execution_count": 10,
   "outputs": [],
   "source": [
    "raw_data = pd.read_csv(\"covid_data.csv\")"
   ],
   "metadata": {
    "collapsed": false,
    "pycharm": {
     "name": "#%%\n",
     "is_executing": false
    }
   }
  },
  {
   "cell_type": "code",
   "source": [
    "raw_data.head()"
   ],
   "metadata": {
    "collapsed": false,
    "pycharm": {
     "name": "#%%\n",
     "is_executing": false
    }
   },
   "execution_count": 11,
   "outputs": [
    {
     "data": {
      "text/plain": "         TIME  E  I  R          S    t\n0  2020-03-04  1  1  0  4999998.0  0.0\n1  2020-03-05  0  1  0  4999999.0  1.0\n2  2020-03-06  1  2  0  4999997.0  2.0\n3  2020-03-07  0  2  0  4999998.0  3.0\n4  2020-03-08  0  2  0  4999998.0  4.0",
      "text/html": "<div>\n<style scoped>\n    .dataframe tbody tr th:only-of-type {\n        vertical-align: middle;\n    }\n\n    .dataframe tbody tr th {\n        vertical-align: top;\n    }\n\n    .dataframe thead th {\n        text-align: right;\n    }\n</style>\n<table border=\"1\" class=\"dataframe\">\n  <thead>\n    <tr style=\"text-align: right;\">\n      <th></th>\n      <th>TIME</th>\n      <th>E</th>\n      <th>I</th>\n      <th>R</th>\n      <th>S</th>\n      <th>t</th>\n    </tr>\n  </thead>\n  <tbody>\n    <tr>\n      <th>0</th>\n      <td>2020-03-04</td>\n      <td>1</td>\n      <td>1</td>\n      <td>0</td>\n      <td>4999998.0</td>\n      <td>0.0</td>\n    </tr>\n    <tr>\n      <th>1</th>\n      <td>2020-03-05</td>\n      <td>0</td>\n      <td>1</td>\n      <td>0</td>\n      <td>4999999.0</td>\n      <td>1.0</td>\n    </tr>\n    <tr>\n      <th>2</th>\n      <td>2020-03-06</td>\n      <td>1</td>\n      <td>2</td>\n      <td>0</td>\n      <td>4999997.0</td>\n      <td>2.0</td>\n    </tr>\n    <tr>\n      <th>3</th>\n      <td>2020-03-07</td>\n      <td>0</td>\n      <td>2</td>\n      <td>0</td>\n      <td>4999998.0</td>\n      <td>3.0</td>\n    </tr>\n    <tr>\n      <th>4</th>\n      <td>2020-03-08</td>\n      <td>0</td>\n      <td>2</td>\n      <td>0</td>\n      <td>4999998.0</td>\n      <td>4.0</td>\n    </tr>\n  </tbody>\n</table>\n</div>"
     },
     "metadata": {},
     "output_type": "execute_result",
     "execution_count": 11
    }
   ]
  },
  {
   "cell_type": "code",
   "execution_count": 12,
   "outputs": [],
   "source": [
    "source_data = raw_data[23:]\n",
    "scaler = MinMaxScaler()\n",
    "data_scaled = scaler.fit_transform(source_data[[\"S\", \"E\", \"I\", \"R\"]])\n"
   ],
   "metadata": {
    "collapsed": false,
    "pycharm": {
     "name": "#%%\n",
     "is_executing": false
    }
   }
  },
  {
   "cell_type": "markdown",
   "source": [
    "# Train network"
   ],
   "metadata": {
    "collapsed": false
   }
  },
  {
   "cell_type": "markdown",
   "source": [
    "## Setup options"
   ],
   "metadata": {
    "collapsed": false
   }
  },
  {
   "cell_type": "code",
   "execution_count": 27,
   "outputs": [],
   "source": [
    "options = {\n",
    "    \"N\": 5e6,\n",
    "    \"NUM_EPOCHS\": 100000,\n",
    "    \"LEARNING_RATE\": 5e-4,\n",
    "    \"PARAMETERS_RANGE\": {\n",
    "        \"contact_rate\" : {\n",
    "            \"center\": 10,\n",
    "            \"radius\": 10\n",
    "        },\n",
    "        \"incubation_rate\" : {\n",
    "            \"center\": 10,\n",
    "            \"radius\": 10\n",
    "        },\n",
    "        \"infective_rate\" : {\n",
    "            \"center\": 10,\n",
    "            \"radius\": 10\n",
    "        }\n",
    "        \n",
    "    },\n",
    "    \"NETWORK\": {\n",
    "        \"nodes\": 60,\n",
    "        \"hidden_layers_amount\": 2,\n",
    "        \"activation_function\": torch.tanh\n",
    "    },\n",
    "    \"LOSS\": {\n",
    "        \"THRESHOLD\": 1e-6,\n",
    "        \"BALANCE_DELTA_U\": 1,\n",
    "        \"BALANCE_DELTA_F\": 1\n",
    "    }\n",
    "}"
   ],
   "metadata": {
    "collapsed": false,
    "pycharm": {
     "name": "#%%\n",
     "is_executing": false
    }
   }
  },
  {
   "cell_type": "markdown",
   "source": [
    "## Execute training"
   ],
   "metadata": {
    "collapsed": false
   }
  },
  {
   "cell_type": "code",
   "execution_count": 23,
   "outputs": [
    {
     "name": "stderr",
     "text": [
      "100%|██████████| 100000/100000 [12:32<00:00, 132.92it/s, loss=0.000247, lossU=0.000226, lossF=2.14e-5, Contact_rate=0.279, Incubation_rate=0.468, Infective_rate=11.1, LR=0.001]\n"
     ],
     "output_type": "stream"
    }
   ],
   "source": [
    "pinn = SeirPINN(source_data[\"t\"].to_numpy(), data_scaled[:, 2], options)\n",
    "\n",
    "optimizer = optim.Adam(pinn.params, lr=options[\"LEARNING_RATE\"])\n",
    "pinn.optimizer = optimizer\n",
    "\n",
    "predicted_data = pinn.train(options[\"NUM_EPOCHS\"])"
   ],
   "metadata": {
    "collapsed": false,
    "pycharm": {
     "name": "#%%\n",
     "is_executing": false
    }
   }
  },
  {
   "cell_type": "markdown",
   "source": [
    "# Check calibration"
   ],
   "metadata": {
    "collapsed": false
   }
  },
  {
   "cell_type": "code",
   "execution_count": 24,
   "outputs": [],
   "source": [
    "def ode(y, t, contact_rate, infective, incubation):\n",
    "    S, E, I, R = y\n",
    "    alpha = 1 / incubation\n",
    "    gamma = 1 / infective\n",
    "    beta = contact_rate / infective\n",
    "\n",
    "    dSdt = - beta * S * I\n",
    "    dEdt = beta * S * I - alpha * E\n",
    "    dIdt = alpha * E - gamma * I\n",
    "    dRdt = gamma * I\n",
    "\n",
    "    return dSdt, dEdt, dIdt, dRdt"
   ],
   "metadata": {
    "collapsed": false,
    "pycharm": {
     "name": "#%%\n",
     "is_executing": false
    }
   }
  },
  {
   "cell_type": "code",
   "execution_count": 25,
   "outputs": [],
   "source": [
    "y0 = data_scaled[0, 0], data_scaled[0, 1], data_scaled[0, 2], data_scaled[0, 3]\n",
    "t = np.linspace(0, len(data_scaled), len(data_scaled))\n",
    "\n",
    "res = odeint(ode, y0, t, args=(pinn.contact_rate.item(), \n",
    "                               pinn.infective_rate.item(), \n",
    "                               pinn.incubation_rate.item()))\n",
    "\n",
    "simulated_i = np.array([item[2] for item in res])"
   ],
   "metadata": {
    "collapsed": false,
    "pycharm": {
     "name": "#%%\n",
     "is_executing": false
    }
   }
  },
  {
   "cell_type": "code",
   "execution_count": 26,
   "outputs": [
    {
     "name": "stderr",
     "text": [
      "/var/folders/y1/0xfcbwy53bsd0708_4_bv7nw0000gn/T/ipykernel_51502/4128318735.py:14: MatplotlibDeprecationWarning: The 'b' parameter of grid() has been renamed 'visible' since Matplotlib 3.5; support for the old name will be dropped two minor releases later.\n",
      "  ax.grid(b=True, which='major', c='black', lw=0.2, ls='-')\n"
     ],
     "output_type": "stream"
    },
    {
     "data": {
      "text/plain": "<Figure size 720x576 with 1 Axes>",
      "image/png": "[encoded data removed]"
     },
     "metadata": {
      "needs_background": "light"
     },
     "output_type": "display_data"
    }
   ],
   "source": [
    "fig = plt.figure(figsize=(10, 8))\n",
    "ax = fig.add_subplot(111, facecolor='#dddddd', axisbelow=True)\n",
    "ax.set_facecolor('xkcd:white')\n",
    "\n",
    "x = range(0, len(data_scaled))\n",
    "\n",
    "ax.plot(x, data_scaled[:, 2], c='blue', label='ACTIVE')\n",
    "ax.plot(x, simulated_i, c=\"red\",alpha=0.9, lw=2, label='Simulated')\n",
    "\n",
    "ax.set_xlabel('Day', fontsize=20)\n",
    "ax.set_ylabel('Number', fontsize=20)\n",
    "ax.yaxis.set_tick_params(length=0)\n",
    "ax.xaxis.set_tick_params(length=0)\n",
    "ax.grid(b=True, which='major', c='black', lw=0.2, ls='-')\n",
    "legend = ax.legend()\n",
    "legend.get_frame().set_alpha(0.5)\n",
    "for spine in ('top', 'right', 'bottom', 'left'):\n",
    "    ax.spines[spine].set_visible(False)\n",
    "\n",
    "plt.show()\n"
   ],
   "metadata": {
    "collapsed": false,
    "pycharm": {
     "name": "#%%\n",
     "is_executing": false
    }
   }
  },
  {
   "cell_type": "code",
   "execution_count": null,
   "outputs": [],
   "source": [
    "\n"
   ],
   "metadata": {
    "collapsed": false,
    "pycharm": {
     "name": "#%%\n"
    }
   }
  }
 ],
 "metadata": {
  "kernelspec": {
   "name": "pycharm-80c3afee",
   "language": "python",
   "display_name": "PyCharm (COVID_AI)"
  },
  "language_info": {
   "codemirror_mode": {
    "name": "ipython",
    "version": 2
   },
   "file_extension": ".py",
   "mimetype": "text/x-python",
   "name": "python",
   "nbconvert_exporter": "python",
   "pygments_lexer": "ipython2",
   "version": "2.7.6"
  },
  "pycharm": {
   "stem_cell": {
    "cell_type": "raw",
    "source": [],
    "metadata": {
     "collapsed": false
    }
   }
  }
 },
 "nbformat": 4,
 "nbformat_minor": 0
}