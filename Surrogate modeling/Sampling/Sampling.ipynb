{
 "cells": [
  {
   "cell_type": "code",
   "execution_count": 1,
   "id": "973ceaa1",
   "metadata": {},
   "outputs": [],
   "source": [
    "import pandas as pd\n",
    "import numpy as np\n",
    "import json\n",
    "import os\n",
    "import random\n",
    "from tqdm import tqdm"
   ]
  },
  {
   "cell_type": "code",
   "execution_count": 3,
   "id": "c6b8f25e",
   "metadata": {},
   "outputs": [
    {
     "name": "stderr",
     "output_type": "stream",
     "text": [
      "/tmp/ipykernel_58450/1233574085.py:1: DtypeWarning: Columns (5) have mixed types. Specify dtype option on import or set low_memory=False.\n",
      "  data = pd.read_csv(r'synth_populations/sp5-15km/people_apart+work.txt', sep='\\t', index_col=0)\n"
     ]
    }
   ],
   "source": [
    "data = pd.read_csv(r'synth_populations/sp5-15km/people_apart+work.txt', sep='\\t', index_col=0)\n",
    "households = pd.read_csv(r'synth_populations/sp5-15km/households_apart.txt', sep='\\t')\n",
    "dict_school_id_global = json.load(open(os.path.expanduser(r'synth_populations/sp5-15km/school_id_5-15km.json')))"
   ]
  },
  {
   "cell_type": "code",
   "execution_count": 7,
   "id": "a2910610",
   "metadata": {},
   "outputs": [],
   "source": [
    "# number of ids\n",
    "n = 1000000\n",
    "\n",
    "# choose ids from data\n",
    "ids = data.index.to_list()\n",
    "ids_rand = random.sample(ids, n)\n",
    "\n",
    "data_samp = data.loc[ids_rand]"
   ]
  },
  {
   "cell_type": "code",
   "execution_count": 8,
   "id": "615a67db",
   "metadata": {},
   "outputs": [],
   "source": [
    "households_samp = households.loc[households[\"sp_id\"].isin(data_samp[\"sp_hh_id\"])]\\\n",
    "                            .reset_index().drop([\"index\"], axis=1)"
   ]
  },
  {
   "cell_type": "code",
   "execution_count": 9,
   "id": "f6c13b87",
   "metadata": {},
   "outputs": [
    {
     "name": "stderr",
     "output_type": "stream",
     "text": [
      "100%|█████████████████████████████████████████| 709/709 [03:19<00:00,  3.55it/s]\n"
     ]
    }
   ],
   "source": [
    "items = list(dict_school_id_global.items())\n",
    "school_dict = {}\n",
    "\n",
    "for it in tqdm(items):\n",
    "    tmp_lst = list(set(it[1]).intersection(set(ids_rand)))\n",
    "    if len(tmp_lst) != 0:\n",
    "        school_dict[it[0]] = tmp_lst"
   ]
  },
  {
   "cell_type": "code",
   "execution_count": 11,
   "id": "0da8e3be",
   "metadata": {},
   "outputs": [
    {
     "name": "stdout",
     "output_type": "stream",
     "text": [
      "4865119\n",
      "1000000\n"
     ]
    }
   ],
   "source": [
    "print(len(data))\n",
    "print(len(data_samp))"
   ]
  },
  {
   "cell_type": "code",
   "execution_count": 10,
   "id": "2dd6c1b0",
   "metadata": {},
   "outputs": [],
   "source": [
    "# saving data\n",
    "data_samp.to_csv('people_apart+work_samp.txt', sep='\\t')\n",
    "households_samp.to_csv('households_apart_samp.txt', sep='\\t')\n",
    "with open('school_id_5-15km_samp.json', 'w') as fp:\n",
    "    json.dump(school_dict, fp)"
   ]
  }
 ],
 "metadata": {
  "kernelspec": {
   "display_name": "Python 3 (ipykernel)",
   "language": "python",
   "name": "python3"
  },
  "language_info": {
   "codemirror_mode": {
    "name": "ipython",
    "version": 3
   },
   "file_extension": ".py",
   "mimetype": "text/x-python",
   "name": "python",
   "nbconvert_exporter": "python",
   "pygments_lexer": "ipython3",
   "version": "3.8.10"
  }
 },
 "nbformat": 4,
 "nbformat_minor": 5
}
